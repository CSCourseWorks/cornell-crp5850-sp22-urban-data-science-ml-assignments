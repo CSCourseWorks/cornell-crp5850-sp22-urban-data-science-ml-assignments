{
 "cells": [
  {
   "cell_type": "markdown",
   "metadata": {},
   "source": [
    "<header> CRP5850 Exercise2 | Python statement, method and function </header>\n",
    "<header> Cheng FEI (cf482) | 02/01/2022 </header>"
   ]
  },
  {
   "cell_type": "markdown",
   "metadata": {},
   "source": [
    "<h1> Exercise 1 </h1>"
   ]
  },
  {
   "cell_type": "code",
   "execution_count": 106,
   "metadata": {},
   "outputs": [],
   "source": [
    "def cost_output(price, quantity):\n",
    "    cost = price * quantity\n",
    "    if cost > 100:\n",
    "        print('It is very expensive!')\n",
    "    elif cost > 50:\n",
    "        print('It is okay!')\n",
    "    else:\n",
    "        print('It is affordable!')"
   ]
  },
  {
   "cell_type": "code",
   "execution_count": 7,
   "metadata": {},
   "outputs": [
    {
     "name": "stdout",
     "output_type": "stream",
     "text": [
      "It is very expensive!\n"
     ]
    }
   ],
   "source": [
    "price = 20\n",
    "quantity = 6\n",
    "cost_output(price, quantity)"
   ]
  },
  {
   "cell_type": "code",
   "execution_count": 8,
   "metadata": {},
   "outputs": [
    {
     "name": "stdout",
     "output_type": "stream",
     "text": [
      "It is okay!\n"
     ]
    }
   ],
   "source": [
    "price = 10\n",
    "quantity = 10\n",
    "cost_output(price, quantity)"
   ]
  },
  {
   "cell_type": "code",
   "execution_count": 9,
   "metadata": {},
   "outputs": [
    {
     "name": "stdout",
     "output_type": "stream",
     "text": [
      "It is affordable!\n"
     ]
    }
   ],
   "source": [
    "price = 10\n",
    "quantity = 5\n",
    "cost_output(price, quantity)"
   ]
  },
  {
   "cell_type": "markdown",
   "metadata": {},
   "source": [
    "<h1> Exercise 2 </h1>"
   ]
  },
  {
   "cell_type": "code",
   "execution_count": 18,
   "metadata": {},
   "outputs": [],
   "source": [
    "my_list= [1,1,4,5,8,11,12,18,7,10]"
   ]
  },
  {
   "cell_type": "code",
   "execution_count": 19,
   "metadata": {
    "scrolled": true
   },
   "outputs": [
    {
     "name": "stdout",
     "output_type": "stream",
     "text": [
      "Odd number: 1\n",
      "Odd number: 1\n",
      "Odd number: 5\n",
      "Odd number: 11\n",
      "Odd number: 7\n",
      "The sum of the odd numbers is 25\n"
     ]
    }
   ],
   "source": [
    "var_sum = 0\n",
    "for var in my_list:\n",
    "    if var%2 == 1:\n",
    "        print(f'Odd number: {var}')\n",
    "        var_sum += var\n",
    "print('The sum of the odd numbers is {}'.format(var_sum))"
   ]
  },
  {
   "cell_type": "markdown",
   "metadata": {},
   "source": [
    "<h1> Exercise 3 </h1>"
   ]
  },
  {
   "cell_type": "code",
   "execution_count": 21,
   "metadata": {},
   "outputs": [
    {
     "name": "stdout",
     "output_type": "stream",
     "text": [
      "There is a 100 at index no: 2\n",
      "There is a 100 at index no: 6\n",
      "There is a 100 at index no: 12\n"
     ]
    }
   ],
   "source": [
    "my_list=[17, 30, 100, 185, 95, 23, 100, 89, 176, 42, 25, 97, 100, 80, 95]\n",
    "ind = 0\n",
    "while ind < len(my_list):\n",
    "    if my_list[ind] == 100:\n",
    "        print('There is a 100 at index no: {}'.format(ind))\n",
    "    ind += 1"
   ]
  },
  {
   "cell_type": "markdown",
   "metadata": {},
   "source": [
    "<h1> Exercise 4 </h1>"
   ]
  },
  {
   "cell_type": "code",
   "execution_count": 22,
   "metadata": {},
   "outputs": [],
   "source": [
    "my_list=[17, 30, 100, 185, 95, 23, 100, 89, 176, 42, 25, 97, 100, 80, 95]"
   ]
  },
  {
   "cell_type": "markdown",
   "metadata": {},
   "source": [
    "<h2> Solution 1 </h2>"
   ]
  },
  {
   "cell_type": "code",
   "execution_count": 23,
   "metadata": {},
   "outputs": [
    {
     "name": "stdout",
     "output_type": "stream",
     "text": [
      "[17, 30, 185, 95, 23, 89, 176, 42, 25, 97, 80, 95]\n"
     ]
    }
   ],
   "source": [
    "num_list = []\n",
    "for num in my_list:\n",
    "    if num != 100:\n",
    "        num_list.append(num)\n",
    "print(num_list)"
   ]
  },
  {
   "cell_type": "markdown",
   "metadata": {},
   "source": [
    "<h2> Solution 2 </h2>"
   ]
  },
  {
   "cell_type": "code",
   "execution_count": 24,
   "metadata": {},
   "outputs": [
    {
     "name": "stdout",
     "output_type": "stream",
     "text": [
      "[17, 30, 185, 95, 23, 89, 176, 42, 25, 97, 80, 95]\n"
     ]
    }
   ],
   "source": [
    "print([num for num in my_list if num!=100])"
   ]
  },
  {
   "cell_type": "markdown",
   "metadata": {},
   "source": [
    "<h1> Exercise 5 </h1>"
   ]
  },
  {
   "cell_type": "code",
   "execution_count": 28,
   "metadata": {},
   "outputs": [
    {
     "name": "stdout",
     "output_type": "stream",
     "text": [
      "It takes 11 times.\n"
     ]
    }
   ],
   "source": [
    "x = 25\n",
    "y = 3\n",
    "ind = 0\n",
    "while x > y:\n",
    "    x -= 2\n",
    "    ind += 1\n",
    "print(f'It takes {ind} times.')"
   ]
  },
  {
   "cell_type": "markdown",
   "metadata": {},
   "source": [
    "<h1> Exercise 6 </h1>"
   ]
  },
  {
   "cell_type": "code",
   "execution_count": 29,
   "metadata": {},
   "outputs": [],
   "source": [
    "def return_even_list(my_list):\n",
    "    return([num for num in my_list if num%2==0])"
   ]
  },
  {
   "cell_type": "code",
   "execution_count": 30,
   "metadata": {},
   "outputs": [
    {
     "data": {
      "text/plain": [
       "[2, 4, 6, 8]"
      ]
     },
     "execution_count": 30,
     "metadata": {},
     "output_type": "execute_result"
    }
   ],
   "source": [
    "return_even_list([2,3,4,1,6,3,8])"
   ]
  },
  {
   "cell_type": "markdown",
   "metadata": {},
   "source": [
    "<h1> Exercise 7 </h1>"
   ]
  },
  {
   "cell_type": "code",
   "execution_count": 32,
   "metadata": {},
   "outputs": [],
   "source": [
    "def blackjack(a,b,c):\n",
    "    s = a + b + c\n",
    "    if s < 21:\n",
    "        return s\n",
    "    elif s == 21:\n",
    "        return 'Blackjack!'\n",
    "    else:\n",
    "        return 'Bust!'"
   ]
  },
  {
   "cell_type": "code",
   "execution_count": 33,
   "metadata": {},
   "outputs": [
    {
     "data": {
      "text/plain": [
       "14"
      ]
     },
     "execution_count": 33,
     "metadata": {},
     "output_type": "execute_result"
    }
   ],
   "source": [
    "blackjack(1,4,9)"
   ]
  },
  {
   "cell_type": "code",
   "execution_count": 34,
   "metadata": {},
   "outputs": [
    {
     "data": {
      "text/plain": [
       "'Bust!'"
      ]
     },
     "execution_count": 34,
     "metadata": {},
     "output_type": "execute_result"
    }
   ],
   "source": [
    "blackjack(3,9,10)"
   ]
  },
  {
   "cell_type": "code",
   "execution_count": 35,
   "metadata": {},
   "outputs": [
    {
     "data": {
      "text/plain": [
       "'Blackjack!'"
      ]
     },
     "execution_count": 35,
     "metadata": {},
     "output_type": "execute_result"
    }
   ],
   "source": [
    "blackjack(1,10,10)"
   ]
  },
  {
   "cell_type": "markdown",
   "metadata": {},
   "source": [
    "<h1> Exercise 8 </h1>"
   ]
  },
  {
   "cell_type": "code",
   "execution_count": 39,
   "metadata": {},
   "outputs": [],
   "source": [
    "def check_up_low(my_sentence):\n",
    "    upper_l = 0\n",
    "    lower_l = 0\n",
    "    for letter in my_sentence:\n",
    "        if letter.isupper():\n",
    "            upper_l += 1\n",
    "        elif letter.islower():\n",
    "            lower_l += 1\n",
    "        else:\n",
    "            pass\n",
    "    print('Number of uppercase characters: {a}\\nNumber of lower characters: {b}'.format(a=upper_l, b=lower_l))"
   ]
  },
  {
   "cell_type": "code",
   "execution_count": 41,
   "metadata": {},
   "outputs": [
    {
     "name": "stdout",
     "output_type": "stream",
     "text": [
      "Number of uppercase characters: 1\n",
      "Number of lower characters: 14\n"
     ]
    }
   ],
   "source": [
    "check_up_low('Today is a nice day!')"
   ]
  },
  {
   "cell_type": "markdown",
   "metadata": {},
   "source": [
    "<h1> Exercise 9 </h1>"
   ]
  },
  {
   "cell_type": "code",
   "execution_count": 42,
   "metadata": {},
   "outputs": [],
   "source": [
    "def revise_number (num):\n",
    "    return num * 2"
   ]
  },
  {
   "cell_type": "code",
   "execution_count": 57,
   "metadata": {},
   "outputs": [],
   "source": [
    "def revise_string(my_string):\n",
    "    if len(my_string) <= 3:\n",
    "        return my_string.upper()\n",
    "    else:\n",
    "        return my_string[:3].upper() + my_string[3:]"
   ]
  },
  {
   "cell_type": "code",
   "execution_count": 61,
   "metadata": {},
   "outputs": [],
   "source": [
    "def revise_list(my_list):\n",
    "    revise_list = []\n",
    "    for item in my_list:\n",
    "        if type(item) == str:\n",
    "            revise_list.append(revise_string(item))\n",
    "        elif type(item) == int or type(item) == float:\n",
    "            revise_list.append(revise_number(item))\n",
    "    return revise_list"
   ]
  },
  {
   "cell_type": "code",
   "execution_count": 63,
   "metadata": {},
   "outputs": [
    {
     "data": {
      "text/plain": [
       "['HI', 'APPle', 6, 3.12, 'I', 0]"
      ]
     },
     "execution_count": 63,
     "metadata": {},
     "output_type": "execute_result"
    }
   ],
   "source": [
    "revise_list(['hi','apple',3,1.56,'i',0])"
   ]
  },
  {
   "cell_type": "markdown",
   "metadata": {},
   "source": [
    "<h1> Exercise 10 </h1>"
   ]
  },
  {
   "cell_type": "code",
   "execution_count": 69,
   "metadata": {},
   "outputs": [],
   "source": [
    "class Duel():\n",
    "    def __init__(self, name, health, attack):\n",
    "        self.name = name\n",
    "        self.health = health\n",
    "        self.attack = attack\n",
    "    def declare(self, enemy):\n",
    "        print('My name is {player}, I want to challenge {enemy}'.format(player=self.name, enemy=enemy.name))\n",
    "    def battle(self, enemy):\n",
    "        turn = 0\n",
    "        while self.health>0 and enemy.health>0:\n",
    "            enemy.health -= self.attack\n",
    "            self.health -= enemy.attack\n",
    "            turn += 1\n",
    "        if enemy.health <= 0:\n",
    "            print('{player} beats {enemy} in {number} turns!'.format(player=self.name, enemy=enemy.name, number=turn))\n",
    "        elif self.health <= 0:\n",
    "            print('{enemy} beats {player} in {number} turns!'.format(enemy=enemy.name, player=self.name, number=turn))"
   ]
  },
  {
   "cell_type": "code",
   "execution_count": 70,
   "metadata": {},
   "outputs": [
    {
     "name": "stdout",
     "output_type": "stream",
     "text": [
      "My name is Xue, I want to challenge Chris\n",
      "Chris beats Xue in 4 turns!\n"
     ]
    }
   ],
   "source": [
    "player1=Duel('Xue',300,45)\n",
    "player2=Duel('Chris',200,90)\n",
    "player1.declare(player2)\n",
    "player1.battle(player2)"
   ]
  },
  {
   "cell_type": "markdown",
   "metadata": {},
   "source": [
    "<h1> Bonus Challenge </h1>"
   ]
  },
  {
   "cell_type": "code",
   "execution_count": 104,
   "metadata": {},
   "outputs": [],
   "source": [
    "def verify(input_statement):\n",
    "    while True:\n",
    "        # Input a variable.\n",
    "        num = input(input_statement)\n",
    "        # Test if the variable is an integer.\n",
    "        try:\n",
    "            integer = int(num)\n",
    "            # Test if the integer is out of bounds.\n",
    "            if integer <= 100 and integer >= 1:\n",
    "                return integer\n",
    "                break\n",
    "            else:\n",
    "                print('Your guess is out of bounds.')\n",
    "        except ValueError:\n",
    "            print('Please put a valid number.')"
   ]
  },
  {
   "cell_type": "code",
   "execution_count": 105,
   "metadata": {},
   "outputs": [],
   "source": [
    "def test_num(num_min, num_max):\n",
    "    # Initialize the random target number.\n",
    "    import random\n",
    "    rand_num = random.randint(num_min, num_max)\n",
    "    # Initialize other parameters.\n",
    "    turn = 1\n",
    "    lower_bound = num_min\n",
    "    upper_bound = num_max\n",
    "    # Enter the first guess.\n",
    "    num = verify(\"Let's play a game! Guess a number (integer) between 1 and 100: \")\n",
    "    # Run the loop and update the guess until get the correct answer.\n",
    "    while True:\n",
    "        turn += 1\n",
    "        if num == rand_num:\n",
    "            print('Bingo! You got the correct number ({number}) in {turn} valid guesses!'.format(number=num, turn=turn))\n",
    "            break\n",
    "        elif num > rand_num:\n",
    "            upper_bound = min(num, upper_bound)\n",
    "        else:\n",
    "            lower_bound = max(num, lower_bound)\n",
    "        num = verify(f'Nice try, now guess a number between {lower_bound} and {upper_bound}: ')"
   ]
  },
  {
   "cell_type": "code",
   "execution_count": 103,
   "metadata": {
    "scrolled": true
   },
   "outputs": [
    {
     "name": "stdout",
     "output_type": "stream",
     "text": [
      "Let's play a game! Guess a number (integer) between 1 and 100: -10\n",
      "Your guess is out of bounds.\n",
      "Let's play a game! Guess a number (integer) between 1 and 100: 200\n",
      "Your guess is out of bounds.\n",
      "Let's play a game! Guess a number (integer) between 1 and 100: Apple\n",
      "Please put a valid number.\n",
      "Let's play a game! Guess a number (integer) between 1 and 100: 50\n",
      "Nice try, now guess a number between 1 and 50: 75\n",
      "Nice try, now guess a number between 1 and 50: 30\n",
      "Nice try, now guess a number between 1 and 30: 20\n",
      "Nice try, now guess a number between 1 and 20: 10\n",
      "Nice try, now guess a number between 1 and 10: 5\n",
      "Nice try, now guess a number between 5 and 10: 8\n",
      "Nice try, now guess a number between 8 and 10: 9\n",
      "Bingo! You got the correct number (9) in 9 valid guesses!\n"
     ]
    }
   ],
   "source": [
    "test_num(1, 100)"
   ]
  },
  {
   "cell_type": "code",
   "execution_count": null,
   "metadata": {},
   "outputs": [],
   "source": []
  },
  {
   "cell_type": "code",
   "execution_count": null,
   "metadata": {},
   "outputs": [],
   "source": []
  }
 ],
 "metadata": {
  "kernelspec": {
   "display_name": "Python 3",
   "language": "python",
   "name": "python3"
  },
  "language_info": {
   "codemirror_mode": {
    "name": "ipython",
    "version": 3
   },
   "file_extension": ".py",
   "mimetype": "text/x-python",
   "name": "python",
   "nbconvert_exporter": "python",
   "pygments_lexer": "ipython3",
   "version": "3.8.3"
  }
 },
 "nbformat": 4,
 "nbformat_minor": 4
}
