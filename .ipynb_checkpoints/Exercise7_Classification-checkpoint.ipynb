{
 "cells": [
  {
   "cell_type": "markdown",
   "metadata": {},
   "source": [
    "### Lab 7 Classification"
   ]
  },
  {
   "cell_type": "markdown",
   "metadata": {},
   "source": [
    "<section> Cheng FEI (cf482) </section>"
   ]
  },
  {
   "cell_type": "code",
   "execution_count": 210,
   "metadata": {},
   "outputs": [],
   "source": [
    "import numpy as np\n",
    "import pandas as pd\n",
    "import matplotlib.pyplot as plt\n",
    "\n",
    "from sklearn.datasets import load_breast_cancer\n",
    "from sklearn.model_selection import train_test_split\n",
    "from sklearn.preprocessing import StandardScaler\n",
    "from sklearn.linear_model import LogisticRegression\n",
    "from sklearn.metrics import confusion_matrix, accuracy_score\n",
    "from sklearn.neighbors import KNeighborsClassifier\n",
    "from sklearn.svm import SVC\n",
    "from sklearn.naive_bayes import GaussianNB\n",
    "from sklearn.tree import DecisionTreeClassifier\n",
    "from sklearn.ensemble import RandomForestClassifier"
   ]
  },
  {
   "cell_type": "markdown",
   "metadata": {},
   "source": [
    "### Load data"
   ]
  },
  {
   "cell_type": "code",
   "execution_count": 179,
   "metadata": {},
   "outputs": [],
   "source": [
    "data = load_breast_cancer()"
   ]
  },
  {
   "cell_type": "code",
   "execution_count": 180,
   "metadata": {},
   "outputs": [],
   "source": [
    "cancer_df = pd.DataFrame(columns=data['feature_names'], data=data['data'])"
   ]
  },
  {
   "cell_type": "code",
   "execution_count": 181,
   "metadata": {},
   "outputs": [],
   "source": [
    "cancer_df['target'] = data['target']"
   ]
  },
  {
   "cell_type": "code",
   "execution_count": 182,
   "metadata": {},
   "outputs": [],
   "source": [
    "y = cancer_df.target.values"
   ]
  },
  {
   "cell_type": "code",
   "execution_count": 183,
   "metadata": {},
   "outputs": [],
   "source": [
    "x = cancer_df.iloc[:, [0,1,4]].values"
   ]
  },
  {
   "cell_type": "markdown",
   "metadata": {},
   "source": [
    "### Preprocess data"
   ]
  },
  {
   "cell_type": "code",
   "execution_count": 184,
   "metadata": {},
   "outputs": [],
   "source": [
    "x_train, x_test, y_train, y_test = train_test_split(x, y, test_size=0.3, random_state=0)"
   ]
  },
  {
   "cell_type": "code",
   "execution_count": 185,
   "metadata": {},
   "outputs": [],
   "source": [
    "scx = StandardScaler()\n",
    "x_train = scx.fit_transform(x_train)\n",
    "x_test = scx.transform(x_test)"
   ]
  },
  {
   "cell_type": "markdown",
   "metadata": {},
   "source": [
    "### Initialize results DataFrame"
   ]
  },
  {
   "cell_type": "code",
   "execution_count": 186,
   "metadata": {},
   "outputs": [],
   "source": [
    "reg_results = pd.DataFrame(index=['Logistic Regression', 'K-nn', 'SVM_linear', 'SVM_rbf', 'Naive Bayes', 'Decision Tree', 'Random Forest'],\n",
    "                           columns=['X', 'Y', 'Accuracy score (training set)', 'Accuracy score (test set)', \n",
    "                                    'Input variables', 'Actual value', 'Predicted value'])"
   ]
  },
  {
   "cell_type": "code",
   "execution_count": 187,
   "metadata": {},
   "outputs": [],
   "source": [
    "reg_results.iloc[:, 0] = 'mean radius, mean texture, mean smoothness'\n",
    "reg_results.iloc[:, 1] = 'target'\n",
    "reg_results.iloc[:, 4] = '17.99, 10.38, 0.11840'\n",
    "reg_results.iloc[:, 5] = '0'"
   ]
  },
  {
   "cell_type": "markdown",
   "metadata": {},
   "source": [
    "### 1. Logistic Regression"
   ]
  },
  {
   "cell_type": "code",
   "execution_count": 188,
   "metadata": {},
   "outputs": [
    {
     "data": {
      "text/plain": [
       "LogisticRegression()"
      ]
     },
     "execution_count": 188,
     "metadata": {},
     "output_type": "execute_result"
    }
   ],
   "source": [
    "classifier1 = LogisticRegression()\n",
    "classifier1.fit(x_train, y_train)"
   ]
  },
  {
   "cell_type": "code",
   "execution_count": 189,
   "metadata": {},
   "outputs": [
    {
     "name": "stdout",
     "output_type": "stream",
     "text": [
      "[[134  15]\n",
      " [ 11 238]]\n"
     ]
    }
   ],
   "source": [
    "cm1_train = confusion_matrix(y_train, classifier1.predict(x_train))\n",
    "print(cm1_train)"
   ]
  },
  {
   "cell_type": "code",
   "execution_count": 190,
   "metadata": {},
   "outputs": [
    {
     "data": {
      "text/plain": [
       "array([[ 55,   8],\n",
       "       [  6, 102]])"
      ]
     },
     "execution_count": 190,
     "metadata": {},
     "output_type": "execute_result"
    }
   ],
   "source": [
    "cm1_test = confusion_matrix(y_test, classifier1.predict(x_test))\n",
    "cm1_test"
   ]
  },
  {
   "cell_type": "code",
   "execution_count": 191,
   "metadata": {},
   "outputs": [],
   "source": [
    "reg_results.iloc[0, 2] = accuracy_score(y_train, classifier1.predict(x_train))\n",
    "reg_results.iloc[0, 3] = accuracy_score(y_test, classifier1.predict(x_test))"
   ]
  },
  {
   "cell_type": "code",
   "execution_count": 192,
   "metadata": {},
   "outputs": [],
   "source": [
    "reg_results.iloc[0, 6] = classifier1.predict(scx.transform([[17.99, 10.38, 0.11840]]))[0]"
   ]
  },
  {
   "cell_type": "markdown",
   "metadata": {},
   "source": [
    "### 2. K-NN"
   ]
  },
  {
   "cell_type": "code",
   "execution_count": 193,
   "metadata": {},
   "outputs": [
    {
     "data": {
      "text/plain": [
       "KNeighborsClassifier()"
      ]
     },
     "execution_count": 193,
     "metadata": {},
     "output_type": "execute_result"
    }
   ],
   "source": [
    "classifier2 = KNeighborsClassifier(n_neighbors=5)\n",
    "classifier2.fit(x_train, y_train)"
   ]
  },
  {
   "cell_type": "code",
   "execution_count": 194,
   "metadata": {},
   "outputs": [],
   "source": [
    "reg_results.iloc[1, 2] = accuracy_score(y_train, classifier2.predict(x_train))\n",
    "reg_results.iloc[1, 3] = accuracy_score(y_test, classifier2.predict(x_test))\n",
    "reg_results.iloc[1, 6] = classifier2.predict(scx.transform([[17.99, 10.38, 0.11840]]))[0]"
   ]
  },
  {
   "cell_type": "markdown",
   "metadata": {},
   "source": [
    "### 3. Linear SVM"
   ]
  },
  {
   "cell_type": "code",
   "execution_count": 195,
   "metadata": {},
   "outputs": [
    {
     "data": {
      "text/plain": [
       "SVC(kernel='linear')"
      ]
     },
     "execution_count": 195,
     "metadata": {},
     "output_type": "execute_result"
    }
   ],
   "source": [
    "classifier3 = SVC(kernel='linear')\n",
    "classifier3.fit(x_train, y_train)"
   ]
  },
  {
   "cell_type": "code",
   "execution_count": 196,
   "metadata": {},
   "outputs": [],
   "source": [
    "reg_results.iloc[2, 2] = accuracy_score(y_train, classifier3.predict(x_train))\n",
    "reg_results.iloc[2, 3] = accuracy_score(y_test, classifier3.predict(x_test))\n",
    "reg_results.iloc[2, 6] = classifier3.predict(scx.transform([[17.99, 10.38, 0.11840]]))[0]"
   ]
  },
  {
   "cell_type": "markdown",
   "metadata": {},
   "source": [
    "### 4. Gaussian SVM"
   ]
  },
  {
   "cell_type": "code",
   "execution_count": 198,
   "metadata": {},
   "outputs": [
    {
     "data": {
      "text/plain": [
       "SVC()"
      ]
     },
     "execution_count": 198,
     "metadata": {},
     "output_type": "execute_result"
    }
   ],
   "source": [
    "classifier4 = SVC(kernel='rbf')\n",
    "classifier4.fit(x_train, y_train)"
   ]
  },
  {
   "cell_type": "code",
   "execution_count": 199,
   "metadata": {},
   "outputs": [],
   "source": [
    "reg_results.iloc[3, 2] = accuracy_score(y_train, classifier4.predict(x_train))\n",
    "reg_results.iloc[3, 3] = accuracy_score(y_test, classifier4.predict(x_test))\n",
    "reg_results.iloc[3, 6] = classifier4.predict(scx.transform([[17.99, 10.38, 0.11840]]))[0]"
   ]
  },
  {
   "cell_type": "markdown",
   "metadata": {},
   "source": [
    "### 5. Naive Bayes"
   ]
  },
  {
   "cell_type": "code",
   "execution_count": 202,
   "metadata": {},
   "outputs": [],
   "source": [
    "classifier5 = GaussianNB()\n",
    "classifier5.fit(x_train, y_train)\n",
    "reg_results.iloc[4, 2] = accuracy_score(y_train, classifier5.predict(x_train))\n",
    "reg_results.iloc[4, 3] = accuracy_score(y_test, classifier5.predict(x_test))\n",
    "reg_results.iloc[4, 6] = classifier5.predict(scx.transform([[17.99, 10.38, 0.11840]]))[0]"
   ]
  },
  {
   "cell_type": "markdown",
   "metadata": {},
   "source": [
    "### 6. Decision Tree"
   ]
  },
  {
   "cell_type": "code",
   "execution_count": 204,
   "metadata": {},
   "outputs": [],
   "source": [
    "classifier6 = DecisionTreeClassifier(random_state=0)\n",
    "classifier6.fit(x_train, y_train)\n",
    "reg_results.iloc[5, 2] = accuracy_score(y_train, classifier6.predict(x_train))\n",
    "reg_results.iloc[5, 3] = accuracy_score(y_test, classifier6.predict(x_test))\n",
    "reg_results.iloc[5, 6] = classifier6.predict(scx.transform([[17.99, 10.38, 0.11840]]))[0]"
   ]
  },
  {
   "cell_type": "markdown",
   "metadata": {},
   "source": [
    "### 7. Random Forest"
   ]
  },
  {
   "cell_type": "code",
   "execution_count": 206,
   "metadata": {},
   "outputs": [],
   "source": [
    "classifier7 = RandomForestClassifier(random_state=0)\n",
    "classifier7.fit(x_train, y_train)\n",
    "reg_results.iloc[6, 2] = accuracy_score(y_train, classifier7.predict(x_train))\n",
    "reg_results.iloc[6, 3] = accuracy_score(y_test, classifier7.predict(x_test))\n",
    "reg_results.iloc[6, 6] = classifier7.predict(scx.transform([[17.99, 10.38, 0.11840]]))[0]"
   ]
  },
  {
   "cell_type": "code",
   "execution_count": 211,
   "metadata": {},
   "outputs": [],
   "source": [
    "reg_results.to_excel('/Users/chengfei/downloads/ClassifierPerformance.xlsx')"
   ]
  },
  {
   "cell_type": "code",
   "execution_count": 212,
   "metadata": {},
   "outputs": [
    {
     "data": {
      "text/html": [
       "<div>\n",
       "<style scoped>\n",
       "    .dataframe tbody tr th:only-of-type {\n",
       "        vertical-align: middle;\n",
       "    }\n",
       "\n",
       "    .dataframe tbody tr th {\n",
       "        vertical-align: top;\n",
       "    }\n",
       "\n",
       "    .dataframe thead th {\n",
       "        text-align: right;\n",
       "    }\n",
       "</style>\n",
       "<table border=\"1\" class=\"dataframe\">\n",
       "  <thead>\n",
       "    <tr style=\"text-align: right;\">\n",
       "      <th></th>\n",
       "      <th>X</th>\n",
       "      <th>Y</th>\n",
       "      <th>Accuracy score (training set)</th>\n",
       "      <th>Accuracy score (test set)</th>\n",
       "      <th>Input variables</th>\n",
       "      <th>Actual value</th>\n",
       "      <th>Predicted value</th>\n",
       "    </tr>\n",
       "  </thead>\n",
       "  <tbody>\n",
       "    <tr>\n",
       "      <th>Logistic Regression</th>\n",
       "      <td>mean radius, mean texture, mean smoothness</td>\n",
       "      <td>target</td>\n",
       "      <td>0.934673</td>\n",
       "      <td>0.918129</td>\n",
       "      <td>17.99, 10.38, 0.11840</td>\n",
       "      <td>0</td>\n",
       "      <td>0</td>\n",
       "    </tr>\n",
       "    <tr>\n",
       "      <th>K-nn</th>\n",
       "      <td>mean radius, mean texture, mean smoothness</td>\n",
       "      <td>target</td>\n",
       "      <td>0.937186</td>\n",
       "      <td>0.900585</td>\n",
       "      <td>17.99, 10.38, 0.11840</td>\n",
       "      <td>0</td>\n",
       "      <td>1</td>\n",
       "    </tr>\n",
       "    <tr>\n",
       "      <th>SVM_linear</th>\n",
       "      <td>mean radius, mean texture, mean smoothness</td>\n",
       "      <td>target</td>\n",
       "      <td>0.937186</td>\n",
       "      <td>0.912281</td>\n",
       "      <td>17.99, 10.38, 0.11840</td>\n",
       "      <td>0</td>\n",
       "      <td>0</td>\n",
       "    </tr>\n",
       "    <tr>\n",
       "      <th>SVM_rbf</th>\n",
       "      <td>mean radius, mean texture, mean smoothness</td>\n",
       "      <td>target</td>\n",
       "      <td>0.947236</td>\n",
       "      <td>0.929825</td>\n",
       "      <td>17.99, 10.38, 0.11840</td>\n",
       "      <td>0</td>\n",
       "      <td>0</td>\n",
       "    </tr>\n",
       "    <tr>\n",
       "      <th>Naive Bayes</th>\n",
       "      <td>mean radius, mean texture, mean smoothness</td>\n",
       "      <td>target</td>\n",
       "      <td>0.914573</td>\n",
       "      <td>0.929825</td>\n",
       "      <td>17.99, 10.38, 0.11840</td>\n",
       "      <td>0</td>\n",
       "      <td>0</td>\n",
       "    </tr>\n",
       "    <tr>\n",
       "      <th>Decision Tree</th>\n",
       "      <td>mean radius, mean texture, mean smoothness</td>\n",
       "      <td>target</td>\n",
       "      <td>1</td>\n",
       "      <td>0.906433</td>\n",
       "      <td>17.99, 10.38, 0.11840</td>\n",
       "      <td>0</td>\n",
       "      <td>0</td>\n",
       "    </tr>\n",
       "    <tr>\n",
       "      <th>Random Forest</th>\n",
       "      <td>mean radius, mean texture, mean smoothness</td>\n",
       "      <td>target</td>\n",
       "      <td>1</td>\n",
       "      <td>0.923977</td>\n",
       "      <td>17.99, 10.38, 0.11840</td>\n",
       "      <td>0</td>\n",
       "      <td>0</td>\n",
       "    </tr>\n",
       "  </tbody>\n",
       "</table>\n",
       "</div>"
      ],
      "text/plain": [
       "                                                              X       Y  \\\n",
       "Logistic Regression  mean radius, mean texture, mean smoothness  target   \n",
       "K-nn                 mean radius, mean texture, mean smoothness  target   \n",
       "SVM_linear           mean radius, mean texture, mean smoothness  target   \n",
       "SVM_rbf              mean radius, mean texture, mean smoothness  target   \n",
       "Naive Bayes          mean radius, mean texture, mean smoothness  target   \n",
       "Decision Tree        mean radius, mean texture, mean smoothness  target   \n",
       "Random Forest        mean radius, mean texture, mean smoothness  target   \n",
       "\n",
       "                    Accuracy score (training set) Accuracy score (test set)  \\\n",
       "Logistic Regression                      0.934673                  0.918129   \n",
       "K-nn                                     0.937186                  0.900585   \n",
       "SVM_linear                               0.937186                  0.912281   \n",
       "SVM_rbf                                  0.947236                  0.929825   \n",
       "Naive Bayes                              0.914573                  0.929825   \n",
       "Decision Tree                                   1                  0.906433   \n",
       "Random Forest                                   1                  0.923977   \n",
       "\n",
       "                           Input variables Actual value Predicted value  \n",
       "Logistic Regression  17.99, 10.38, 0.11840            0               0  \n",
       "K-nn                 17.99, 10.38, 0.11840            0               1  \n",
       "SVM_linear           17.99, 10.38, 0.11840            0               0  \n",
       "SVM_rbf              17.99, 10.38, 0.11840            0               0  \n",
       "Naive Bayes          17.99, 10.38, 0.11840            0               0  \n",
       "Decision Tree        17.99, 10.38, 0.11840            0               0  \n",
       "Random Forest        17.99, 10.38, 0.11840            0               0  "
      ]
     },
     "execution_count": 212,
     "metadata": {},
     "output_type": "execute_result"
    }
   ],
   "source": [
    "reg_results"
   ]
  },
  {
   "cell_type": "code",
   "execution_count": null,
   "metadata": {},
   "outputs": [],
   "source": []
  }
 ],
 "metadata": {
  "kernelspec": {
   "display_name": "Python 3 (ipykernel)",
   "language": "python",
   "name": "python3"
  },
  "language_info": {
   "codemirror_mode": {
    "name": "ipython",
    "version": 3
   },
   "file_extension": ".py",
   "mimetype": "text/x-python",
   "name": "python",
   "nbconvert_exporter": "python",
   "pygments_lexer": "ipython3",
   "version": "3.8.3"
  }
 },
 "nbformat": 4,
 "nbformat_minor": 4
}
